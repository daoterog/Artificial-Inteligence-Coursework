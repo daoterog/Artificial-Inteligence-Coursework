{
 "cells": [
  {
   "cell_type": "markdown",
   "metadata": {},
   "source": [
    "### Imports"
   ]
  },
  {
   "cell_type": "code",
   "execution_count": null,
   "metadata": {},
   "outputs": [],
   "source": [
    "%load_ext autoreload\n",
    "%autoreload 2\n",
    "\n",
    "import numpy as np\n",
    "import skfuzzy as fuzz\n",
    "\n",
    "from decision_rules import get_decision_rules, process_rule\n",
    "from membership_functions import get_codemf, get_reportmf, get_punctualitymf, get_grademf\n",
    "from plotting import plot_membership_functions, plot_active_decision_rules, plot_final_grade"
   ]
  },
  {
   "cell_type": "markdown",
   "metadata": {},
   "source": [
    "### Define Inputs"
   ]
  },
  {
   "cell_type": "code",
   "execution_count": null,
   "metadata": {},
   "outputs": [],
   "source": [
    "# Define inputs\n",
    "code_quality = 70\n",
    "punctuality = 3-1\n",
    "report_quality = 30"
   ]
  },
  {
   "cell_type": "markdown",
   "metadata": {},
   "source": [
    "### Define input and domains"
   ]
  },
  {
   "cell_type": "code",
   "execution_count": null,
   "metadata": {},
   "outputs": [],
   "source": [
    "# Define input domains\n",
    "code_quality_domain = np.linspace(start=0, stop=100, num=500)\n",
    "report_quality_domain = np.linspace(start=0, stop=50, num=500)\n",
    "punctuality_domain = np.linspace(start=-3, stop=7, num=500)\n",
    "\n",
    "# Define output domain\n",
    "grade_domain = np.linspace(start=0, stop=50, num=500)\n",
    "\n",
    "# Get membership functions\n",
    "poor_code_quality, avg_code_quality, high_code_quality = get_codemf(code_quality_domain)\n",
    "poor_report_quality, avg_report_quality, high_report_quality = get_reportmf(report_quality_domain)\n",
    "poor_punctuality, avg_punctuality, high_punctuality = get_punctualitymf(punctuality_domain)\n",
    "grade_wo, grade_bd, grade_md, grade_gd, grade_ex = get_grademf(grade_domain)"
   ]
  },
  {
   "cell_type": "markdown",
   "metadata": {},
   "source": [
    "### Plot membership functions"
   ]
  },
  {
   "cell_type": "code",
   "execution_count": null,
   "metadata": {},
   "outputs": [],
   "source": [
    "code_tuple = (code_quality_domain, poor_code_quality, avg_code_quality, high_code_quality)\n",
    "report_tuple = (report_quality_domain, poor_report_quality, avg_report_quality, high_report_quality)\n",
    "punctuality_tuple = (punctuality_domain, poor_punctuality, avg_punctuality, high_punctuality)\n",
    "grade_tuple = (grade_domain, grade_wo, grade_bd, grade_md, grade_gd, grade_ex)\n",
    "\n",
    "# Visualize membership functions\n",
    "plot_membership_functions(code_tuple, report_tuple, punctuality_tuple, grade_tuple)"
   ]
  },
  {
   "cell_type": "markdown",
   "metadata": {},
   "source": [
    "### Define Arguments"
   ]
  },
  {
   "cell_type": "code",
   "execution_count": null,
   "metadata": {},
   "outputs": [],
   "source": [
    "# Define Arguments\n",
    "domain = [code_quality_domain, report_quality_domain, punctuality_domain]\n",
    "\n",
    "membership_functions = np.array([\n",
    "    [poor_code_quality, avg_code_quality, high_code_quality],\n",
    "    [poor_report_quality, avg_report_quality, high_report_quality],\n",
    "    [poor_punctuality, avg_punctuality, high_punctuality],\n",
    "])\n",
    "\n",
    "inputs = [code_quality, report_quality, punctuality]"
   ]
  },
  {
   "cell_type": "markdown",
   "metadata": {},
   "source": [
    "### Get activations"
   ]
  },
  {
   "cell_type": "code",
   "execution_count": null,
   "metadata": {},
   "outputs": [],
   "source": [
    "# Activation\n",
    "n = len(domain)\n",
    "activation = np.zeros((n, n))\n",
    "\n",
    "for i in range(n):\n",
    "    for j in range(n):\n",
    "        activation[i, j] = fuzz.interp_membership(x=domain[i], xmf=membership_functions[i, j], xx=inputs[i])\n",
    "\n",
    "print(np.round(activation, 2))"
   ]
  },
  {
   "cell_type": "markdown",
   "metadata": {},
   "source": [
    "### Get the decision rules, get activet rules, and calculate their activations"
   ]
  },
  {
   "cell_type": "code",
   "execution_count": null,
   "metadata": {},
   "outputs": [],
   "source": [
    "# Get Decision Rules\n",
    "decision_rules = get_decision_rules()\n",
    "\n",
    "# Grades\n",
    "grades = {'worst': 0, 'bad': 1, 'mediocre': 2, 'good': 3, 'excellent': 4}\n",
    "\n",
    "# Get active rules\n",
    "active_rules = [process_rule(rule, activation) for rule in decision_rules]\n",
    "active_rules = np.array(active_rules)\n",
    "\n",
    "# Grade activations\n",
    "grade_activations = []\n",
    "\n",
    "# Grades\n",
    "grade_sets = [grade_wo, grade_bd, grade_md, grade_gd, grade_ex]\n",
    "\n",
    "for i, rule in enumerate(decision_rules):\n",
    "    # Get consequent\n",
    "    consequent = grade_sets[grades[rule[-1]]]\n",
    "    # Grade activation\n",
    "    grade_activations += [np.fmin(active_rules[i], consequent)]"
   ]
  },
  {
   "cell_type": "markdown",
   "metadata": {},
   "source": [
    "### Plot Active Decision Rules"
   ]
  },
  {
   "cell_type": "code",
   "execution_count": null,
   "metadata": {},
   "outputs": [],
   "source": [
    "# How many decisions rules are activated?\n",
    "threshold = 0.01\n",
    "\n",
    "plot_active_decision_rules(threshold, grade_activations, grade_domain, decision_rules, grades, grade_sets)"
   ]
  },
  {
   "cell_type": "markdown",
   "metadata": {},
   "source": [
    "### Get aggregated membership functions"
   ]
  },
  {
   "cell_type": "code",
   "execution_count": null,
   "metadata": {},
   "outputs": [],
   "source": [
    "# Aggregate all output membership functions\n",
    "aggregated = np.zeros(grade_activations[0].shape)\n",
    "\n",
    "# Get color for the rule with the largest activation\n",
    "max_index = None\n",
    "max_value = 0\n",
    "\n",
    "for i, grade_activation in enumerate(grade_activations):\n",
    "    grade_max = grade_activation.max()\n",
    "    # Update maximum value\n",
    "    if max_value < grade_max:\n",
    "        max_index = i\n",
    "        max_value = grade_max\n",
    "    aggregated = np.fmax(aggregated, grade_activation)"
   ]
  },
  {
   "cell_type": "markdown",
   "metadata": {},
   "source": [
    "### Defuzzify result to get final grade"
   ]
  },
  {
   "cell_type": "code",
   "execution_count": null,
   "metadata": {},
   "outputs": [],
   "source": [
    "# Defuzzify result\n",
    "final_grade = fuzz.defuzz(grade_domain, aggregated, 'lom')\n",
    "final_grade_activation = fuzz.interp_membership(grade_domain, aggregated, final_grade)\n",
    "\n",
    "print(f\"Your final grade is: {final_grade}\")"
   ]
  },
  {
   "cell_type": "markdown",
   "metadata": {},
   "source": [
    "### Plot Final Grade Results"
   ]
  },
  {
   "cell_type": "code",
   "execution_count": null,
   "metadata": {},
   "outputs": [],
   "source": [
    "# Plot final grade activations\n",
    "c = 'C{}'.format(grades[decision_rules[max_index][-1]])\n",
    "plot_final_grade(grade_sets, grade_domain, final_grade, final_grade_activation, c, aggregated)"
   ]
  },
  {
   "cell_type": "code",
   "execution_count": null,
   "metadata": {},
   "outputs": [],
   "source": []
  }
 ],
 "metadata": {
  "kernelspec": {
   "display_name": "Python 3.9.5 ('ai_course')",
   "language": "python",
   "name": "python3"
  },
  "language_info": {
   "codemirror_mode": {
    "name": "ipython",
    "version": 3
   },
   "file_extension": ".py",
   "mimetype": "text/x-python",
   "name": "python",
   "nbconvert_exporter": "python",
   "pygments_lexer": "ipython3",
   "version": "3.9.5"
  },
  "orig_nbformat": 4,
  "vscode": {
   "interpreter": {
    "hash": "5bea2d85cd5b6b63c6832511d3648e6a1038b7a6c7c132ac6cf02d6d816c6155"
   }
  }
 },
 "nbformat": 4,
 "nbformat_minor": 2
}
